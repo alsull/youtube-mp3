{
  "nbformat": 4,
  "nbformat_minor": 0,
  "metadata": {
    "colab": {
      "provenance": []
    },
    "kernelspec": {
      "name": "python3",
      "display_name": "Python 3"
    },
    "language_info": {
      "name": "python"
    }
  },
  "cells": [
    {
      "cell_type": "code",
      "execution_count": 1,
      "metadata": {
        "colab": {
          "base_uri": "https://localhost:8080/"
        },
        "id": "VlgukA8EIyTY",
        "outputId": "764fc1f2-bed9-42c2-891b-225d562ca689"
      },
      "outputs": [
        {
          "output_type": "stream",
          "name": "stdout",
          "text": [
            "Requirement already satisfied: moviepy in /usr/local/lib/python3.11/dist-packages (1.0.3)\n",
            "Requirement already satisfied: decorator<5.0,>=4.0.2 in /usr/local/lib/python3.11/dist-packages (from moviepy) (4.4.2)\n",
            "Requirement already satisfied: tqdm<5.0,>=4.11.2 in /usr/local/lib/python3.11/dist-packages (from moviepy) (4.67.1)\n",
            "Requirement already satisfied: requests<3.0,>=2.8.1 in /usr/local/lib/python3.11/dist-packages (from moviepy) (2.32.3)\n",
            "Requirement already satisfied: proglog<=1.0.0 in /usr/local/lib/python3.11/dist-packages (from moviepy) (0.1.12)\n",
            "Requirement already satisfied: numpy>=1.17.3 in /usr/local/lib/python3.11/dist-packages (from moviepy) (2.0.2)\n",
            "Requirement already satisfied: imageio<3.0,>=2.5 in /usr/local/lib/python3.11/dist-packages (from moviepy) (2.37.0)\n",
            "Requirement already satisfied: imageio-ffmpeg>=0.2.0 in /usr/local/lib/python3.11/dist-packages (from moviepy) (0.6.0)\n",
            "Requirement already satisfied: pillow>=8.3.2 in /usr/local/lib/python3.11/dist-packages (from imageio<3.0,>=2.5->moviepy) (11.2.1)\n",
            "Requirement already satisfied: charset-normalizer<4,>=2 in /usr/local/lib/python3.11/dist-packages (from requests<3.0,>=2.8.1->moviepy) (3.4.2)\n",
            "Requirement already satisfied: idna<4,>=2.5 in /usr/local/lib/python3.11/dist-packages (from requests<3.0,>=2.8.1->moviepy) (3.10)\n",
            "Requirement already satisfied: urllib3<3,>=1.21.1 in /usr/local/lib/python3.11/dist-packages (from requests<3.0,>=2.8.1->moviepy) (2.4.0)\n",
            "Requirement already satisfied: certifi>=2017.4.17 in /usr/local/lib/python3.11/dist-packages (from requests<3.0,>=2.8.1->moviepy) (2025.7.9)\n"
          ]
        }
      ],
      "source": [
        "pip install moviepy"
      ]
    },
    {
      "cell_type": "code",
      "source": [
        "!pip install yt-dlp"
      ],
      "metadata": {
        "colab": {
          "base_uri": "https://localhost:8080/"
        },
        "id": "7GSMdJg9KR3C",
        "outputId": "4145e400-d5dd-4417-92d8-68efa8082dd2"
      },
      "execution_count": 2,
      "outputs": [
        {
          "output_type": "stream",
          "name": "stdout",
          "text": [
            "Collecting yt-dlp\n",
            "  Downloading yt_dlp-2025.6.30-py3-none-any.whl.metadata (174 kB)\n",
            "\u001b[2K     \u001b[90m━━━━━━━━━━━━━━━━━━━━━━━━━━━━━━━━━━━━━━━\u001b[0m \u001b[32m174.3/174.3 kB\u001b[0m \u001b[31m4.5 MB/s\u001b[0m eta \u001b[36m0:00:00\u001b[0m\n",
            "\u001b[?25hDownloading yt_dlp-2025.6.30-py3-none-any.whl (3.3 MB)\n",
            "\u001b[2K   \u001b[90m━━━━━━━━━━━━━━━━━━━━━━━━━━━━━━━━━━━━━━━━\u001b[0m \u001b[32m3.3/3.3 MB\u001b[0m \u001b[31m42.8 MB/s\u001b[0m eta \u001b[36m0:00:00\u001b[0m\n",
            "\u001b[?25hInstalling collected packages: yt-dlp\n",
            "Successfully installed yt-dlp-2025.6.30\n"
          ]
        }
      ]
    },
    {
      "cell_type": "code",
      "source": [
        "# Mount Google Drive\n",
        "from google.colab import drive\n",
        "drive.mount('/content/drive')"
      ],
      "metadata": {
        "colab": {
          "base_uri": "https://localhost:8080/"
        },
        "id": "EY4qfXNhI5Iv",
        "outputId": "924c3ea7-e00a-40ad-9f11-5ceb52c8293a"
      },
      "execution_count": 4,
      "outputs": [
        {
          "output_type": "stream",
          "name": "stdout",
          "text": [
            "Mounted at /content/drive\n"
          ]
        }
      ]
    },
    {
      "cell_type": "code",
      "source": [
        "import os\n",
        "\n",
        "def download_youtube_with_ytdlp(url, folder_name):\n",
        "    drive_path = f\"/content/drive/MyDrive/{folder_name}\"\n",
        "    os.makedirs(drive_path, exist_ok=True)\n",
        "\n",
        "    # Build command\n",
        "    command = f'yt-dlp -f \"bv*+ba/b\" --merge-output-format mp4 -o \"{drive_path}/%(title)s.%(ext)s\" \"{url}\"'\n",
        "    print(\"Running command:\", command)\n",
        "    os.system(command)\n",
        "\n",
        "# Example usage\n",
        "download_youtube_with_ytdlp(\"https://www.youtube.com/watch?v=VuNIsY6JdUw\", \"MP4\")"
      ],
      "metadata": {
        "colab": {
          "base_uri": "https://localhost:8080/"
        },
        "id": "v8EZJ5KLKExV",
        "outputId": "d722be23-8c26-44b7-ff46-406552b7051a"
      },
      "execution_count": null,
      "outputs": [
        {
          "output_type": "stream",
          "name": "stdout",
          "text": [
            "Running command: yt-dlp -f \"bv*+ba/b\" --merge-output-format mp4 -o \"/content/drive/MyDrive/MP4/%(title)s.%(ext)s\" \"https://www.youtube.com/watch?v=VuNIsY6JdUw\"\n"
          ]
        }
      ]
    },
    {
      "cell_type": "code",
      "source": [
        "import os\n",
        "from moviepy.editor import VideoFileClip\n",
        "\n",
        "mp4_folder = \"/content/drive/MyDrive/MP4\"\n",
        "mp3_folder = \"/content/drive/MyDrive/MP3\"\n",
        "\n",
        "def convert_all_mp4_to_mp3(source_folder, target_folder):\n",
        "    if not os.path.exists(source_folder):\n",
        "        print(f\" MP4 folder not found: {source_folder}\")\n",
        "        return\n",
        "\n",
        "    os.makedirs(target_folder, exist_ok=True)\n",
        "\n",
        "    mp4_files = [f for f in os.listdir(source_folder) if f.endswith(\".mp4\")]\n",
        "    if not mp4_files:\n",
        "        print(\" No MP4 files found.\")\n",
        "        return\n",
        "\n",
        "    for filename in mp4_files:\n",
        "        mp4_path = os.path.join(source_folder, filename)\n",
        "        mp3_filename = os.path.splitext(filename)[0] + \".mp3\"\n",
        "        mp3_path = os.path.join(target_folder, mp3_filename)\n",
        "\n",
        "        print(f\" Converting: {filename} -> {mp3_filename}\")\n",
        "        try:\n",
        "            video = VideoFileClip(mp4_path)\n",
        "            video.audio.write_audiofile(mp3_path)\n",
        "            video.close()\n",
        "        except Exception as e:\n",
        "            print(f\" Failed to convert {filename}: {e}\")\n",
        "\n",
        "# Run the conversion\n",
        "convert_all_mp4_to_mp3(mp4_folder, mp3_folder)\n"
      ],
      "metadata": {
        "colab": {
          "base_uri": "https://localhost:8080/"
        },
        "id": "gQMl16UVJOmo",
        "outputId": "281a29a0-a142-4bc2-dbcb-874ec52bbc84"
      },
      "execution_count": 5,
      "outputs": [
        {
          "output_type": "stream",
          "name": "stdout",
          "text": [
            "🎵 Converting: Alexander Sullivan - Audio Sample.mp4 -> Alexander Sullivan - Audio Sample.mp3\n",
            "MoviePy - Writing audio in /content/drive/MyDrive/MP3/Alexander Sullivan - Audio Sample.mp3\n"
          ]
        },
        {
          "output_type": "stream",
          "name": "stderr",
          "text": [
            "                                                                      "
          ]
        },
        {
          "output_type": "stream",
          "name": "stdout",
          "text": [
            "MoviePy - Done.\n"
          ]
        },
        {
          "output_type": "stream",
          "name": "stderr",
          "text": [
            "\r"
          ]
        }
      ]
    }
  ]
}